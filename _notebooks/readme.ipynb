{
 "cells": [
  {
   "cell_type": "markdown",
   "metadata": {},
   "source": [
    "# Quansight blog notebooks\n",
    "\n",
    "The Quansight blog hosts notebooks to our emerging technologies.\n",
    "\n",
    "[![Binder](https://mybinder.org/badge.svg)](https://mybinder.org/v2/gh/Quansight/Quansight.github.io/master?filepath=_notebooks%2Freadme.ipynb)\n",
    "\n",
    "The notebooks are built and deployed using the [Travis pages deployment](https://docs.travis-ci.com/user/deployment/pages/)\n",
    "\n",
    "[![Build Status](https://travis-ci.org/Quansight/Quansight.github.io.svg?branch=master)](https://travis-ci.org/Quansight/Quansight.github.io)\n"
   ]
  },
  {
   "cell_type": "code",
   "execution_count": null,
   "metadata": {},
   "outputs": [],
   "source": []
  }
 ],
 "metadata": {
  "kernelspec": {
   "display_name": "Python 3",
   "language": "python",
   "name": "python3"
  },
  "language_info": {
   "codemirror_mode": {
    "name": "ipython",
    "version": 3
   },
   "file_extension": ".py",
   "mimetype": "text/x-python",
   "name": "python",
   "nbconvert_exporter": "python",
   "pygments_lexer": "ipython3",
   "version": "3.6.5"
  }
 },
 "nbformat": 4,
 "nbformat_minor": 2
}
