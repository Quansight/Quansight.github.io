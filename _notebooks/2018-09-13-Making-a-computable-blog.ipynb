{
 "cells": [
  {
   "cell_type": "markdown",
   "metadata": {},
   "source": []
  },
  {
   "cell_type": "code",
   "execution_count": 74,
   "metadata": {},
   "outputs": [],
   "source": [
    "    def collect_last_input(stop=-1):\n",
    "        try: return '\\n'.join(In[-1].splitlines()[:stop])\n",
    "        except: return "
   ]
  },
  {
   "cell_type": "code",
   "execution_count": 75,
   "metadata": {},
   "outputs": [],
   "source": [
    "    import nbconvert, git, yaml, inspect, yaml\n",
    "    from pathlib import Path\n",
    "    _imports = collect_last_input(-2)\n",
    "    config = Path('..', 'jupyter_nbconvert_config.py')"
   ]
  },
  {
   "cell_type": "code",
   "execution_count": 76,
   "metadata": {},
   "outputs": [],
   "source": [
    "    def author_from_repo(file, dir='.'):\n",
    "        repo = git.Repo(dir)\n",
    "        return repo.blame('HEAD~0', file)[0][0].author.name"
   ]
  },
  {
   "cell_type": "code",
   "execution_count": 77,
   "metadata": {},
   "outputs": [],
   "source": [
    "    class FrontMatters(nbconvert.exporters.MarkdownExporter):\n",
    "        def from_notebook_node(self, nb, resources=None, **kw):\n",
    "            nb, resources = super().from_notebook_node(nb, resources, **kw)\n",
    "            md = dict(resources['metadata'])\n",
    "            md['author'] = author_from_repo(Path(md['path'], f\"{md['name']}.ipynb\"))\n",
    "            return '---\\n'.join((\n",
    "                '', yaml.safe_dump(md, default_flow_style=False), nb\n",
    "            )), resources\n",
    "    _front_matter_source = collect_last_input()"
   ]
  },
  {
   "cell_type": "code",
   "execution_count": 78,
   "metadata": {},
   "outputs": [
    {
     "data": {
      "text/plain": [
       "755"
      ]
     },
     "execution_count": 78,
     "metadata": {},
     "output_type": "execute_result"
    }
   ],
   "source": [
    "    collect_last_input() and config.write_text (F\"\"\"{_imports}\n",
    "\n",
    "    {_front_matter_source}\n",
    "\n",
    "    {inspect.getsource(author_from_repo)}\n",
    "    try:\n",
    "        c.NbConvertApp.export_format = f\"jupyter_nbconvert_config.FrontMatters\"\n",
    "        c.FilesWriter.build_directory = \"_posts\"\n",
    "    except: ...\"\"\")"
   ]
  },
  {
   "cell_type": "code",
   "execution_count": 82,
   "metadata": {},
   "outputs": [],
   "source": [
    "    def test_author():\n",
    "        assert author_from_repo('_notebooks/2018-09-13-Making-a-computable-blog.ipynb', dir='..') == 'Tony Fast'\n",
    "        \n",
    "    def test_convert():\n",
    "        from IPython import get_ipython\n",
    "        import io\n",
    "        !pushd .. && jupyter nbconvert _notebooks/2018-09-13-Making-a-computable-blog.ipynb\n",
    "        post = Path('../_posts/2018-09-13-Making-a-computable-blog.md')\n",
    "        assert post.exists()\n",
    "        *_, fm, md = post.read_text().split('---', 2)\n",
    "        assert isinstance(yaml.safe_load(io.StringIO(fm)), dict)"
   ]
  },
  {
   "cell_type": "code",
   "execution_count": 83,
   "metadata": {},
   "outputs": [
    {
     "name": "stdout",
     "output_type": "stream",
     "text": [
      "<IPython.core.display.HTML object>\n",
      "============================= test session starts =============================\n",
      "platform win32 -- Python 3.6.6, pytest-3.5.1, py-1.5.3, pluggy-0.6.0\n",
      "Matplotlib: 2.2.2\n",
      "Freetype: 2.8.1\n",
      "rootdir: C:\\Users\\deathbeds\\Quansight.github.io\\_notebooks, inifile:\n",
      "plugins: xdist-1.22.5, testmon-0.9.12, remotedata-0.2.1, parallel-0.0.2, openfiles-0.3.0, mpl-0.9, localserver-0.4.1, forked-0.2, doctestplus-0.1.3, arraydiff-0.2, hypothesis-3.66.16, importnb-0.5.0\n",
      "collected 2 items\n",
      "\n",
      "2018-09-13-Making-a-computable-blog.ipynb ..                             [100%]\n",
      "\n",
      "========================== 2 passed in 3.39 seconds ===========================\n"
     ]
    }
   ],
   "source": [
    "    if __name__ == '__main__':\n",
    "        !ipython -m pytest -- 2018-09-13-Making-a-computable-blog.ipynb"
   ]
  },
  {
   "cell_type": "code",
   "execution_count": null,
   "metadata": {},
   "outputs": [],
   "source": []
  },
  {
   "cell_type": "code",
   "execution_count": null,
   "metadata": {},
   "outputs": [],
   "source": []
  }
 ],
 "metadata": {
  "kernelspec": {
   "display_name": "Python 3",
   "language": "python",
   "name": "python3"
  },
  "language_info": {
   "codemirror_mode": {
    "name": "ipython",
    "version": 3
   },
   "file_extension": ".py",
   "mimetype": "text/x-python",
   "name": "python",
   "nbconvert_exporter": "python",
   "pygments_lexer": "ipython3",
   "version": "3.6.6"
  }
 },
 "nbformat": 4,
 "nbformat_minor": 2
}
