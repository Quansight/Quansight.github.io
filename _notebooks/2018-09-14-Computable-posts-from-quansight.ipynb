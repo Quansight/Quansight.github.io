{
 "cells": [
  {
   "cell_type": "markdown",
   "metadata": {},
   "source": [
    "# Computable blog posts by [Quansight](https://www.quansight.com/)\n",
    "\n",
    "At [Quansight](https://www.quansight.com/), we frequently use [Jupyter notebooks](jupyter.org) to communicate our on going contributions to [sustainable open source software](https://www.quansight.com/sos-partnership).  We thought it would be appropriate to compose blog posts with notebooks so they may be read as blog posts with [Jekyll](https://jekyllrb.com) and reused as demos on [Binder](https://mybinder.org/)."
   ]
  },
  {
   "cell_type": "markdown",
   "metadata": {},
   "source": [
    "## Convert and deploy notebooks\n",
    "\n",
    "In this notebook, we will build the tools required to convert a notebook to a valid [Jekyll post](https://jekyllrb.com/docs/posts/).  This process requires:\n",
    "    \n",
    "1. Converting notebooks to markdown with [`nbconvert`](http://nbconvert.readthedocs.io/).\n",
    "2. Prepending [yaml front matter](https://jekyllrb.com/docs/front-matter/) to the markdown.\n",
    "3. Setting up the [Travis Pages Deployment](https://docs.travis-ci.com/user/deployment/pages/)."
   ]
  },
  {
   "cell_type": "markdown",
   "metadata": {},
   "source": [
    "`collect_last_input` is a utility to function to extract pieces of the last code cell that way run."
   ]
  },
  {
   "cell_type": "code",
   "execution_count": 49,
   "metadata": {},
   "outputs": [],
   "source": [
    "    def collect_last_input(stop=-1):\n",
    "        try: return '\\n'.join(In[-1].splitlines()[:stop])\n",
    "        except: return "
   ]
  },
  {
   "cell_type": "markdown",
   "metadata": {},
   "source": [
    "### Dependencies\n",
    "\n",
    "* [`nbconvert`](http://nbconvert.readthedocs.io/) will convert notebooks into other file formats.\n",
    "* [`git`/__GitPython__](https://gitpython.readthedocs.io/en/stable/) allows us to introspect the revision history to discover metadata about a post.\n",
    "* [`yaml`/__PyYAML__](https://pyyaml.org/) will compose the [YAML Front Matter](https://jekyllrb.com/docs/front-matter/) that Jekyll uses to create posts."
   ]
  },
  {
   "cell_type": "code",
   "execution_count": 50,
   "metadata": {},
   "outputs": [],
   "source": [
    "    import nbconvert, git, yaml, inspect; from pathlib import Path\n",
    "    _imports = collect_last_input()"
   ]
  },
  {
   "cell_type": "markdown",
   "metadata": {},
   "source": [
    "[__jupyter_nbconvert_config.py__](https://nbconvert.readthedocs.io/en/latest/config_options.html) is a special file name recognized by the `nbconvert` `configuration` system.  A goal of this notebook build the correct configuration file to create our posts."
   ]
  },
  {
   "cell_type": "code",
   "execution_count": 51,
   "metadata": {},
   "outputs": [],
   "source": [
    "    configuration = Path('..', 'jupyter_nbconvert_config.py')"
   ]
  },
  {
   "cell_type": "markdown",
   "metadata": {},
   "source": [
    "`FrontMatters` converts a notebook to Markdown and preprends the `yaml` front matter."
   ]
  },
  {
   "cell_type": "code",
   "execution_count": 67,
   "metadata": {},
   "outputs": [],
   "source": [
    "    class FrontMatters(nbconvert.exporters.MarkdownExporter):\n",
    "        def from_notebook_node(self, nb, resources=None, **kw):\n",
    "            nb, resources = super().from_notebook_node(nb, resources, **kw)\n",
    "            md = dict(resources['metadata'])\n",
    "            md['author'] = author_from_repo(Path(md['path'], f\"{md['name']}.ipynb\"))\n",
    "            md['layout'] = 'post'\n",
    "            return '---\\n'.join((\n",
    "                '', yaml.safe_dump(md, default_flow_style=False), nb)), resources\n",
    "    _front_matter_source = collect_last_input()"
   ]
  },
  {
   "cell_type": "markdown",
   "metadata": {},
   "source": [
    "`author_from_repo` extracts the authors of a notebook from the `git` revision history."
   ]
  },
  {
   "cell_type": "code",
   "execution_count": 68,
   "metadata": {},
   "outputs": [],
   "source": [
    "    def author_from_repo(file, dir='.'):\n",
    "        repo = git.Repo(dir)\n",
    "        return repo.blame('HEAD~0', file)[0][0].author.name"
   ]
  },
  {
   "cell_type": "markdown",
   "metadata": {},
   "source": [
    "## Formatting __jupyter_nbconvert_config.py__\n",
    "\n",
    "The components above are combined to create our `configuration` file."
   ]
  },
  {
   "cell_type": "code",
   "execution_count": 69,
   "metadata": {},
   "outputs": [],
   "source": [
    "    collect_last_input() and configuration.write_text (F\"\"\"{_imports}\n",
    "\n",
    "    {_front_matter_source}\n",
    "\n",
    "    {inspect.getsource(author_from_repo)}\n",
    "    try:\n",
    "        c.NbConvertApp.export_format = f\"jupyter_nbconvert_config.FrontMatters\"\n",
    "        c.FilesWriter.build_directory = \"_posts\"\n",
    "    except: ...\"\"\");"
   ]
  },
  {
   "cell_type": "markdown",
   "metadata": {},
   "source": [
    "## Tests\n",
    "\n",
    "Below we test that our `configuration` exports the correct features to "
   ]
  },
  {
   "cell_type": "code",
   "execution_count": null,
   "metadata": {},
   "outputs": [],
   "source": [
    "    def test_author():\n",
    "        assert author_from_repo('_notebooks/2018-09-14-Computable-posts-from-quansight.ipynb', dir='..') == 'Tony Fast'\n",
    "        \n",
    "    def test_convert():\n",
    "        from IPython import get_ipython\n",
    "        import io\n",
    "        !source activate p6 && pushd .. && jupyter nbconvert _notebooks/2018-09-14-Computable-posts-from-quansight.ipynb\n",
    "        post = Path('../_posts/2018-09-14-Computable-posts-from-quansight.md')\n",
    "        assert post.exists()\n",
    "        *_, fm, md = post.read_text().split('---', 2)\n",
    "        fm = yaml.safe_load(io.StringIO(fm))\n",
    "        assert isinstance(fm, dict)\n",
    "        assert 'layout' in fm, \"The blog post won't show with Jekyll.\"\n",
    "\n",
    "    if __name__ == '__main__':\n",
    "        !source activate p6 && ipython -m pytest -- 2018-09-14-Computable-posts-from-quansight.ipynb"
   ]
  },
  {
   "cell_type": "code",
   "execution_count": null,
   "metadata": {},
   "outputs": [],
   "source": []
  },
  {
   "cell_type": "code",
   "execution_count": null,
   "metadata": {},
   "outputs": [],
   "source": []
  }
 ],
 "metadata": {
  "kernelspec": {
   "display_name": "p6",
   "language": "python",
   "name": "other-env"
  },
  "language_info": {
   "codemirror_mode": {
    "name": "ipython",
    "version": 3
   },
   "file_extension": ".py",
   "mimetype": "text/x-python",
   "name": "python",
   "nbconvert_exporter": "python",
   "pygments_lexer": "ipython3",
   "version": "3.6.3"
  }
 },
 "nbformat": 4,
 "nbformat_minor": 2
}
