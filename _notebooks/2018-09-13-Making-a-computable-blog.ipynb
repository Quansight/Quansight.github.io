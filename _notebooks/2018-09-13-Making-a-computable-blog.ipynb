{
 "cells": [
  {
   "cell_type": "code",
   "execution_count": 48,
   "metadata": {},
   "outputs": [],
   "source": [
    "import nbconvert"
   ]
  },
  {
   "cell_type": "code",
   "execution_count": 17,
   "metadata": {},
   "outputs": [
    {
     "name": "stdout",
     "output_type": "stream",
     "text": [
      "Overwriting ../jupyter_nbconvert_config.py\n"
     ]
    }
   ],
   "source": [
    "%%file ../jupyter_nbconvert_config.py\n",
    "import nbconvert\n",
    "\n",
    "from pathlib import Path\n",
    "class Custom(nbconvert.exporters.MarkdownExporter):\n",
    "    def from_notebook_node(self, nb, resources=None, **kw):\n",
    "        \n",
    "        nb, resources = super().from_notebook_node(nb, resources, **kw)\n",
    "        md = dict(resources['metadata'])\n",
    "        path = (Path(md['path']) / md['name']).with_suffix('.ipynb')\n",
    "        print(path, md, dict(resources))\n",
    "        \n",
    "        return \"adgasdf\", resources\n",
    "    \n",
    "try:\n",
    "    c.NbConvertApp.export_format = f\"jupyter_nbconvert_config.Custom\"\n",
    "except: ..."
   ]
  },
  {
   "cell_type": "code",
   "execution_count": 18,
   "metadata": {},
   "outputs": [
    {
     "name": "stdout",
     "output_type": "stream",
     "text": [
      "_notebooks\\Untitled.ipynb {'name': 'Untitled', 'path': '_notebooks', 'modified_date': 'September 13, 2018'} {'config_dir': 'C:\\\\Users\\\\deathbeds\\\\.jupyter', 'unique_key': 'Untitled', 'output_files_dir': 'Untitled_files', 'metadata': defaultdict(None, {'name': 'Untitled', 'path': '_notebooks', 'modified_date': 'September 13, 2018'}), 'output_extension': '.md', 'outputs': {}, 'raw_mimetypes': ['text/markdown', 'text/html', ''], 'global_content_filter': {'include_code': True, 'include_markdown': True, 'include_raw': True, 'include_unknown': True, 'include_input': True, 'include_output': True, 'include_input_prompt': True, 'include_output_prompt': True, 'no_prompt': False}}\n"
     ]
    },
    {
     "name": "stderr",
     "output_type": "stream",
     "text": [
      "[NbConvertApp] Converting notebook _notebooks/Untitled.ipynb to jupyter_nbconvert_config.Custom\n",
      "[NbConvertApp] Writing 7 bytes to _notebooks\\Untitled.md\n"
     ]
    }
   ],
   "source": [
    "!pushd .. && jupyter nbconvert _notebooks/Untitled.ipynb"
   ]
  },
  {
   "cell_type": "code",
   "execution_count": 10,
   "metadata": {},
   "outputs": [],
   "source": [
    "import git"
   ]
  },
  {
   "cell_type": "code",
   "execution_count": 19,
   "metadata": {},
   "outputs": [],
   "source": [
    "repo = git.Repo('..')"
   ]
  },
  {
   "cell_type": "code",
   "execution_count": 21,
   "metadata": {},
   "outputs": [
    {
     "ename": "KeyError",
     "evalue": "\"Blob or Tree named '_notebooks' not found\"",
     "output_type": "error",
     "traceback": [
      "\u001b[1;31m---------------------------------------------------------------------------\u001b[0m",
      "\u001b[1;31mKeyError\u001b[0m                                  Traceback (most recent call last)",
      "\u001b[1;32m<ipython-input-21-4de02416d8ce>\u001b[0m in \u001b[0;36m<module>\u001b[1;34m()\u001b[0m\n\u001b[1;32m----> 1\u001b[1;33m \u001b[0mrepo\u001b[0m\u001b[1;33m.\u001b[0m\u001b[0mtree\u001b[0m\u001b[1;33m(\u001b[0m\u001b[1;33m)\u001b[0m\u001b[1;33m/\u001b[0m\u001b[1;34m'_notebooks'\u001b[0m\u001b[1;33m\u001b[0m\u001b[0m\n\u001b[0m",
      "\u001b[1;32mC:\\Anaconda3\\lib\\site-packages\\git\\objects\\tree.py\u001b[0m in \u001b[0;36m__truediv__\u001b[1;34m(self, file)\u001b[0m\n\u001b[0;32m    251\u001b[0m     \u001b[1;32mdef\u001b[0m \u001b[0m__truediv__\u001b[0m\u001b[1;33m(\u001b[0m\u001b[0mself\u001b[0m\u001b[1;33m,\u001b[0m \u001b[0mfile\u001b[0m\u001b[1;33m)\u001b[0m\u001b[1;33m:\u001b[0m\u001b[1;33m\u001b[0m\u001b[0m\n\u001b[0;32m    252\u001b[0m         \u001b[1;34m\"\"\"For PY3 only\"\"\"\u001b[0m\u001b[1;33m\u001b[0m\u001b[0m\n\u001b[1;32m--> 253\u001b[1;33m         \u001b[1;32mreturn\u001b[0m \u001b[0mself\u001b[0m\u001b[1;33m.\u001b[0m\u001b[0mjoin\u001b[0m\u001b[1;33m(\u001b[0m\u001b[0mfile\u001b[0m\u001b[1;33m)\u001b[0m\u001b[1;33m\u001b[0m\u001b[0m\n\u001b[0m\u001b[0;32m    254\u001b[0m \u001b[1;33m\u001b[0m\u001b[0m\n\u001b[0;32m    255\u001b[0m     \u001b[1;33m@\u001b[0m\u001b[0mproperty\u001b[0m\u001b[1;33m\u001b[0m\u001b[0m\n",
      "\u001b[1;32mC:\\Anaconda3\\lib\\site-packages\\git\\objects\\tree.py\u001b[0m in \u001b[0;36mjoin\u001b[1;34m(self, file)\u001b[0m\n\u001b[0;32m    242\u001b[0m                                                                join_path(self.path, info[2]))\n\u001b[0;32m    243\u001b[0m             \u001b[1;31m# END for each obj\u001b[0m\u001b[1;33m\u001b[0m\u001b[1;33m\u001b[0m\u001b[0m\n\u001b[1;32m--> 244\u001b[1;33m             \u001b[1;32mraise\u001b[0m \u001b[0mKeyError\u001b[0m\u001b[1;33m(\u001b[0m\u001b[0mmsg\u001b[0m \u001b[1;33m%\u001b[0m \u001b[0mfile\u001b[0m\u001b[1;33m)\u001b[0m\u001b[1;33m\u001b[0m\u001b[0m\n\u001b[0m\u001b[0;32m    245\u001b[0m         \u001b[1;31m# END handle long paths\u001b[0m\u001b[1;33m\u001b[0m\u001b[1;33m\u001b[0m\u001b[0m\n\u001b[0;32m    246\u001b[0m \u001b[1;33m\u001b[0m\u001b[0m\n",
      "\u001b[1;31mKeyError\u001b[0m: \"Blob or Tree named '_notebooks' not found\""
     ]
    }
   ],
   "source": [
    "repo.tree()"
   ]
  },
  {
   "cell_type": "code",
   "execution_count": 39,
   "metadata": {},
   "outputs": [],
   "source": [
    "t = repo.tree()"
   ]
  },
  {
   "cell_type": "code",
   "execution_count": 42,
   "metadata": {},
   "outputs": [],
   "source": [
    "b = t.blobs[0]"
   ]
  },
  {
   "cell_type": "code",
   "execution_count": 44,
   "metadata": {},
   "outputs": [
    {
     "data": {
      "text/plain": [
       "('C:\\\\Users\\\\deathbeds\\\\Quansight.github.io\\\\.gitignore',)"
      ]
     },
     "execution_count": 44,
     "metadata": {},
     "output_type": "execute_result"
    }
   ],
   "source": [
    "b.abspath,"
   ]
  },
  {
   "cell_type": "code",
   "execution_count": null,
   "metadata": {},
   "outputs": [],
   "source": []
  }
 ],
 "metadata": {
  "kernelspec": {
   "display_name": "Python 3",
   "language": "python",
   "name": "python3"
  },
  "language_info": {
   "codemirror_mode": {
    "name": "ipython",
    "version": 3
   },
   "file_extension": ".py",
   "mimetype": "text/x-python",
   "name": "python",
   "nbconvert_exporter": "python",
   "pygments_lexer": "ipython3",
   "version": "3.6.6"
  }
 },
 "nbformat": 4,
 "nbformat_minor": 2
}
