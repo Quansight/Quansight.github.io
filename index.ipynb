{
 "cells": [
  {
   "cell_type": "markdown",
   "id": "95b780dd",
   "metadata": {},
   "source": [
    "# the quansight open source community\n",
    "\n",
    "quansight is a passionate community of people devoted to the support of the open source community."
   ]
  },
  {
   "cell_type": "markdown",
   "id": "b9b29801",
   "metadata": {},
   "source": [
    "<details><summary>developer details about how we built this site with open source tools.</summary>\n",
    "\n",
    "<p>This site was created with a single jupyter notebook, a tool we ❤️ at Quansight, it will restart and run all. You can try it on binder or read the <a href=\"developer.html\">developer version</a>.</p>\n",
    "\n",
    "</details>"
   ]
  },
  {
   "cell_type": "raw",
   "id": "32163aa0",
   "metadata": {},
   "source": [
    "<details><summary>click here to see the custom inline css, yes you can just hack css in notebooks</summary>"
   ]
  },
  {
   "cell_type": "code",
   "execution_count": 1,
   "id": "bdaaedf7",
   "metadata": {},
   "outputs": [
    {
     "data": {
      "text/html": [
       "<style>\n",
       "body.jp-Notebook {\n",
       "    max-width: 940px;\t\n",
       "    margin: 0 auto;\n",
       "    @media screen and (max-width: 940px) {padding: 0 20px);}\n",
       "}\n",
       ".projects {\n",
       "    display: flex;\n",
       "}\n",
       ".project {\n",
       "    width: 30vw;\n",
       "    text-align: center;\n",
       "    margin: 0 auto;\n",
       "}\n",
       "</style>\n"
      ],
      "text/plain": [
       "<IPython.core.display.HTML object>"
      ]
     },
     "metadata": {},
     "output_type": "display_data"
    }
   ],
   "source": [
    "    %%html\n",
    "    <style>\n",
    "    body.jp-Notebook {\n",
    "        max-width: 940px;\t\n",
    "        margin: 0 auto;\n",
    "        @media screen and (max-width: 940px) {padding: 0 20px);}\n",
    "    }\n",
    "    .projects {\n",
    "        display: flex;\n",
    "    }\n",
    "    .project {\n",
    "        width: 30vw;\n",
    "        text-align: center;\n",
    "        margin: 0 auto;\n",
    "    }\n",
    "    </style>"
   ]
  },
  {
   "cell_type": "raw",
   "id": "ef326808",
   "metadata": {},
   "source": [
    "</details>"
   ]
  },
  {
   "cell_type": "raw",
   "id": "e820d429",
   "metadata": {},
   "source": [
    "<details open><summary>might as well suppress the imports, but you can click here to see what we are using explicitly</summary>"
   ]
  },
  {
   "cell_type": "code",
   "execution_count": 2,
   "id": "af4e7ae8",
   "metadata": {},
   "outputs": [],
   "source": [
    "    import pandas\n",
    "    from IPython.display import *\n",
    "    import mistune"
   ]
  },
  {
   "cell_type": "raw",
   "id": "b02ec906",
   "metadata": {},
   "source": [
    "</details>"
   ]
  },
  {
   "cell_type": "raw",
   "id": "419334a1",
   "metadata": {},
   "source": [
    "<details open><summary>use <code>pandas</code> to read project information</summary>"
   ]
  },
  {
   "cell_type": "code",
   "execution_count": 3,
   "id": "e221fa31",
   "metadata": {},
   "outputs": [],
   "source": [
    "    df = pandas.read_json(\"projects.json\", lines=True).stack().apply(pandas.Series).set_index('login')\n",
    "    Qs = \"Quansight Quansight-Labs\".split()\n",
    "    qs, ql = df.loc[Qs[0]], df.loc[Qs[1]]\n",
    "    df = df[df.index.map(lambda x: x not in Qs)]"
   ]
  },
  {
   "cell_type": "raw",
   "id": "07410e8a",
   "metadata": {},
   "source": [
    "</details>"
   ]
  },
  {
   "cell_type": "raw",
   "id": "7070b1f0",
   "metadata": {},
   "source": [
    "<details open><summary>make a markdown template for the projects</summary>"
   ]
  },
  {
   "cell_type": "code",
   "execution_count": 4,
   "id": "3945d214",
   "metadata": {},
   "outputs": [],
   "source": [
    "    project_template = lambda s, sz=150: F\"\"\"<div class=\"project\">\"\"\" + mistune.markdown(F\"\"\"## {s.name}\n",
    "\n",
    "[![{s.name} logo]({s.avatar_url}&s={sz})]({s.html_url} \"a link to {s.name}'s github\")\n",
    "\n",
    "{s.description or \"\"}\n",
    "\n",
    "\"\"\" )+\"\"\"</div>\"\"\""
   ]
  },
  {
   "cell_type": "raw",
   "id": "9a915185",
   "metadata": {},
   "source": [
    "<details open><summary>display the quansight projects</summary>"
   ]
  },
  {
   "cell_type": "code",
   "execution_count": 5,
   "id": "2cfedef6",
   "metadata": {},
   "outputs": [
    {
     "data": {
      "text/html": [
       "<div class=\"q projects\"><div class=\"project\"><h2>Quansight-Labs</h2>\n",
       "<p><a href=\"https://github.com/Quansight-Labs\" title=\"a link to Quansight-Labs&#39;s github\"><img src=\"https://avatars.githubusercontent.com/u/42948208?v=4&amp;s=300\" alt=\"Quansight-Labs logo\"></a></p>\n",
       "</div>\n",
       "<div class=\"project\"><h2>Quansight</h2>\n",
       "<p><a href=\"https://github.com/Quansight\" title=\"a link to Quansight&#39;s github\"><img src=\"https://avatars.githubusercontent.com/u/34879953?v=4&amp;s=300\" alt=\"Quansight logo\"></a></p>\n",
       "<p>We grow talent, build technology, and discover products by helping companies grow OSS communities to organize and analyze their data.</p>\n",
       "</div></div>"
      ],
      "text/plain": [
       "<IPython.core.display.HTML object>"
      ]
     },
     "execution_count": 5,
     "metadata": {},
     "output_type": "execute_result"
    }
   ],
   "source": [
    "    HTML(\"\"\"<div class=\"q projects\">\"\"\" + pandas.concat([ql, qs], axis=1).T.apply(project_template, args=(300,), axis=1).pipe(\"\\n\".join) + \"\"\"</div>\"\"\")"
   ]
  },
  {
   "cell_type": "raw",
   "id": "d95f77c7",
   "metadata": {},
   "source": [
    "</details>"
   ]
  },
  {
   "cell_type": "markdown",
   "id": "06bcdb8e",
   "metadata": {},
   "source": [
    "### supported projects"
   ]
  },
  {
   "cell_type": "raw",
   "id": "79e8e392",
   "metadata": {},
   "source": [
    "<details open><summary>display the open source projects quansight maintains</summary>"
   ]
  },
  {
   "cell_type": "code",
   "execution_count": 6,
   "id": "790515ae",
   "metadata": {},
   "outputs": [
    {
     "data": {
      "text/html": [
       "<div class=\"projects\"><div class=\"project\"><h2>scipy</h2>\n",
       "<p><a href=\"https://github.com/scipy\" title=\"a link to scipy&#39;s github\"><img src=\"https://avatars.githubusercontent.com/u/288277?v=4&amp;s=150\" alt=\"scipy logo\"></a></p>\n",
       "</div>\n",
       "<div class=\"project\"><h2>numpy</h2>\n",
       "<p><a href=\"https://github.com/numpy\" title=\"a link to numpy&#39;s github\"><img src=\"https://avatars.githubusercontent.com/u/288276?v=4&amp;s=150\" alt=\"numpy logo\"></a></p>\n",
       "</div>\n",
       "<div class=\"project\"><h2>pytorch</h2>\n",
       "<p><a href=\"https://github.com/pytorch\" title=\"a link to pytorch&#39;s github\"><img src=\"https://avatars.githubusercontent.com/u/21003710?v=4&amp;s=150\" alt=\"pytorch logo\"></a></p>\n",
       "</div>\n",
       "<div class=\"project\"><h2>napari</h2>\n",
       "<p><a href=\"https://github.com/napari\" title=\"a link to napari&#39;s github\"><img src=\"https://avatars.githubusercontent.com/u/39813916?v=4&amp;s=150\" alt=\"napari logo\"></a></p>\n",
       "</div>\n",
       "<div class=\"project\"><h2>ipython</h2>\n",
       "<p><a href=\"https://github.com/ipython\" title=\"a link to ipython&#39;s github\"><img src=\"https://avatars.githubusercontent.com/u/230453?v=4&amp;s=150\" alt=\"ipython logo\"></a></p>\n",
       "<p>interactive computing in Python</p>\n",
       "</div>\n",
       "<div class=\"project\"><h2>zarr-developers</h2>\n",
       "<p><a href=\"https://github.com/zarr-developers\" title=\"a link to zarr-developers&#39;s github\"><img src=\"https://avatars.githubusercontent.com/u/35050297?v=4&amp;s=150\" alt=\"zarr-developers logo\"></a></p>\n",
       "<p>Contributors to the Zarr open source project.</p>\n",
       "</div>\n",
       "<div class=\"project\"><h2>ibis-project</h2>\n",
       "<p><a href=\"https://github.com/ibis-project\" title=\"a link to ibis-project&#39;s github\"><img src=\"https://avatars.githubusercontent.com/u/27442526?v=4&amp;s=150\" alt=\"ibis-project logo\"></a></p>\n",
       "<p>Python Expression Language Framework</p>\n",
       "</div></div>"
      ],
      "text/plain": [
       "<IPython.core.display.HTML object>"
      ]
     },
     "execution_count": 6,
     "metadata": {},
     "output_type": "execute_result"
    }
   ],
   "source": [
    "    HTML(\"\"\"<div class=\"projects\">\"\"\" + df.apply(project_template, axis=1).pipe(\"\\n\".join) + \"\"\"</div>\"\"\")"
   ]
  },
  {
   "cell_type": "raw",
   "id": "279e455e",
   "metadata": {},
   "source": [
    "</details>"
   ]
  },
  {
   "cell_type": "markdown",
   "id": "0ecf796c",
   "metadata": {},
   "source": [
    "### past clients\n"
   ]
  },
  {
   "cell_type": "markdown",
   "id": "d477465a",
   "metadata": {},
   "source": [
    "## community calendars\n",
    "\n",
    "we keep maintain an aggregated list of calendars in the open source pydata world. if you'd like to submit your calendar, please ask to do so in an issue."
   ]
  },
  {
   "cell_type": "raw",
   "id": "27ef81f8",
   "metadata": {},
   "source": [
    "<details open><summary>embed a google made with the <a href=\"https://calendar.google.com/calendar/u/0/embedhelper\">google calendar embed helper</a></summary>"
   ]
  },
  {
   "cell_type": "code",
   "execution_count": 7,
   "id": "243d44b6",
   "metadata": {},
   "outputs": [
    {
     "data": {
      "text/html": [
       "<iframe src=\"https://calendar.google.com/calendar/embed?height=600&amp;wkst=1&amp;bgcolor=%23ffffff&amp;ctz=America%2FNew_York&amp;src=YXFwa3VpNXE3b2kzMnBrOXRjcDUzaG5zc2NAZ3JvdXAuY2FsZW5kYXIuZ29vZ2xlLmNvbQ&amp;src=ZGdwZDM2ZjQzZXQ5Z3JhYm42dGRpbjZwbWNAZ3JvdXAuY2FsZW5kYXIuZ29vZ2xlLmNvbQ&amp;src=bTNoZWs2OWRhZzczODF1bXQ4a2NqZDc1dTRAZ3JvdXAuY2FsZW5kYXIuZ29vZ2xlLmNvbQ&amp;src=ZDE4NzR1cjZmZGh1ajBzbmpuaWxhYzJubGNAZ3JvdXAuY2FsZW5kYXIuZ29vZ2xlLmNvbQ&amp;src=cGlhaGluZWpqcjZzc3ZpOGlrbWpqb3A2cm9AZ3JvdXAuY2FsZW5kYXIuZ29vZ2xlLmNvbQ&amp;color=%237CB342&amp;color=%23B39DDB&amp;color=%23F09300&amp;color=%23F6BF26&amp;color=%23E67C73&amp;showTitle=1&amp;showDate=1&amp;showPrint=0&amp;showTabs=1&amp;showCalendars=1&amp;mode=MONTH\" style=\"border:solid 1px #777\" width=\"800\" height=\"600\" frameborder=\"0\" scrolling=\"no\"></iframe>\n"
      ],
      "text/plain": [
       "<IPython.core.display.HTML object>"
      ]
     },
     "metadata": {},
     "output_type": "display_data"
    }
   ],
   "source": [
    "%%html\n",
    "<iframe src=\"https://calendar.google.com/calendar/embed?height=600&amp;wkst=1&amp;bgcolor=%23ffffff&amp;ctz=America%2FNew_York&amp;src=YXFwa3VpNXE3b2kzMnBrOXRjcDUzaG5zc2NAZ3JvdXAuY2FsZW5kYXIuZ29vZ2xlLmNvbQ&amp;src=ZGdwZDM2ZjQzZXQ5Z3JhYm42dGRpbjZwbWNAZ3JvdXAuY2FsZW5kYXIuZ29vZ2xlLmNvbQ&amp;src=bTNoZWs2OWRhZzczODF1bXQ4a2NqZDc1dTRAZ3JvdXAuY2FsZW5kYXIuZ29vZ2xlLmNvbQ&amp;src=ZDE4NzR1cjZmZGh1ajBzbmpuaWxhYzJubGNAZ3JvdXAuY2FsZW5kYXIuZ29vZ2xlLmNvbQ&amp;src=cGlhaGluZWpqcjZzc3ZpOGlrbWpqb3A2cm9AZ3JvdXAuY2FsZW5kYXIuZ29vZ2xlLmNvbQ&amp;color=%237CB342&amp;color=%23B39DDB&amp;color=%23F09300&amp;color=%23F6BF26&amp;color=%23E67C73&amp;showTitle=1&amp;showDate=1&amp;showPrint=0&amp;showTabs=1&amp;showCalendars=1&amp;mode=MONTH\" style=\"border:solid 1px #777\" width=\"800\" height=\"600\" frameborder=\"0\" scrolling=\"no\"></iframe>\n"
   ]
  },
  {
   "cell_type": "raw",
   "id": "8cd66285",
   "metadata": {},
   "source": [
    "</details>"
   ]
  },
  {
   "cell_type": "markdown",
   "id": "cab37253",
   "metadata": {},
   "source": [
    "## mailing lists"
   ]
  },
  {
   "cell_type": "markdown",
   "id": "45bc8cef",
   "metadata": {},
   "source": [
    "## get Involved"
   ]
  },
  {
   "cell_type": "raw",
   "id": "4cc21b2b",
   "metadata": {},
   "source": [
    "<details open><summary>if all goes well create the html documents and commit them.</summary>"
   ]
  },
  {
   "cell_type": "code",
   "execution_count": 8,
   "id": "b58a60e2",
   "metadata": {},
   "outputs": [],
   "source": [
    "    if __name__ == \"__main__\":\n",
    "        result = !doit convert\n",
    "        NL=\"\"\"\\n\"\"\"\n",
    "        assert result[-1].endswith(\"  convert\"), F\"\"\"something went awry! see \\n{NL.join(result)}\"\"\""
   ]
  },
  {
   "cell_type": "raw",
   "id": "71dec07f",
   "metadata": {},
   "source": [
    "</details>"
   ]
  }
 ],
 "metadata": {
  "kernelspec": {
   "display_name": "Python 3",
   "language": "python",
   "name": "python3"
  },
  "language_info": {
   "codemirror_mode": {
    "name": "ipython",
    "version": 3
   },
   "file_extension": ".py",
   "mimetype": "text/x-python",
   "name": "python",
   "nbconvert_exporter": "python",
   "pygments_lexer": "ipython3",
   "version": "3.7.7"
  }
 },
 "nbformat": 4,
 "nbformat_minor": 5
}
