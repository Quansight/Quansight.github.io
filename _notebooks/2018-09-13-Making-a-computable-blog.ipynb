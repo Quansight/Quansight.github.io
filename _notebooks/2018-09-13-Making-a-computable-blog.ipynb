{
 "cells": [
  {
   "cell_type": "markdown",
   "metadata": {},
   "source": []
  },
  {
   "cell_type": "code",
   "execution_count": 1,
   "metadata": {},
   "outputs": [],
   "source": [
    "    def collect_last_input(stop=-1):\n",
    "        try: return '\\n'.join(In[-1].splitlines()[:stop])\n",
    "        except: return "
   ]
  },
  {
   "cell_type": "code",
   "execution_count": 2,
   "metadata": {},
   "outputs": [],
   "source": [
    "    import nbconvert, git, yaml, inspect\n",
    "    from pathlib import Path\n",
    "    _imports = collect_last_input(-2)\n",
    "    config = Path('..', 'jupyter_nbconvert_config.py')"
   ]
  },
  {
   "cell_type": "code",
   "execution_count": 3,
   "metadata": {},
   "outputs": [],
   "source": [
    "    def author_from_repo(file, dir='.'):\n",
    "        repo = git.Repo(dir)\n",
    "        return repo.blame('HEAD~0', file)[0][0].author.name"
   ]
  },
  {
   "cell_type": "code",
   "execution_count": 4,
   "metadata": {},
   "outputs": [],
   "source": [
    "    class FrontMatters(nbconvert.exporters.MarkdownExporter):\n",
    "        def from_notebook_node(self, nb, resources=None, **kw):\n",
    "            nb, resources = super().from_notebook_node(nb, resources, **kw)\n",
    "            md = dict(resources['metadata'])\n",
    "            md['author'] = author_from_repo(Path(md['path'], f\"{md['name']}.ipynb\"))\n",
    "            md['layout'] = 'post'\n",
    "            return '---\\n'.join((\n",
    "                '', yaml.safe_dump(md, default_flow_style=False), nb\n",
    "            )), resources\n",
    "    _front_matter_source = collect_last_input()"
   ]
  },
  {
   "cell_type": "code",
   "execution_count": 7,
   "metadata": {},
   "outputs": [],
   "source": [
    "    collect_last_input() and config.write_text (F\"\"\"{_imports}\n",
    "\n",
    "    {_front_matter_source}\n",
    "\n",
    "    {inspect.getsource(author_from_repo)}\n",
    "    try:\n",
    "        c.NbConvertApp.export_format = f\"jupyter_nbconvert_config.FrontMatters\"\n",
    "        c.FilesWriter.build_directory = \"_posts\"\n",
    "    except: ...\"\"\");"
   ]
  },
  {
   "cell_type": "code",
   "execution_count": 8,
   "metadata": {},
   "outputs": [],
   "source": [
    "    def test_author():\n",
    "        assert author_from_repo('_notebooks/2018-09-13-Making-a-computable-blog.ipynb', dir='..') == 'Tony Fast'\n",
    "        \n",
    "    def test_convert():\n",
    "        from IPython import get_ipython\n",
    "        import io\n",
    "        !pushd .. && jupyter nbconvert _notebooks/2018-09-13-Making-a-computable-blog.ipynb\n",
    "        post = Path('../_posts/2018-09-13-Making-a-computable-blog.md')\n",
    "        assert post.exists()\n",
    "        *_, fm, md = post.read_text().split('---', 2)\n",
    "        assert isinstance(yaml.safe_load(io.StringIO(fm)), dict)"
   ]
  },
  {
   "cell_type": "code",
   "execution_count": null,
   "metadata": {},
   "outputs": [],
   "source": [
    "    if __name__ == '__main__':\n",
    "        !ipython -m pytest -- 2018-09-13-Making-a-computable-blog.ipynb"
   ]
  }
 ],
 "metadata": {
  "kernelspec": {
   "display_name": "p6",
   "language": "python",
   "name": "other-env"
  },
  "language_info": {
   "codemirror_mode": {
    "name": "ipython",
    "version": 3
   },
   "file_extension": ".py",
   "mimetype": "text/x-python",
   "name": "python",
   "nbconvert_exporter": "python",
   "pygments_lexer": "ipython3",
   "version": "3.6.3"
  }
 },
 "nbformat": 4,
 "nbformat_minor": 2
}
